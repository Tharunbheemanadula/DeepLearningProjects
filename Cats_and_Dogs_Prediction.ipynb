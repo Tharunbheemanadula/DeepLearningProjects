{
 "cells": [
  {
   "cell_type": "markdown",
   "id": "2c4e6302",
   "metadata": {},
   "source": [
    "dataset link=https://www.kaggle.com/datasets/tongpython/cat-and-dog"
   ]
  },
  {
   "cell_type": "code",
   "execution_count": 1,
   "id": "cad517e2",
   "metadata": {},
   "outputs": [],
   "source": [
    "import tensorflow as tf\n",
    "from keras.preprocessing.image import ImageDataGenerator"
   ]
  },
  {
   "cell_type": "code",
   "execution_count": 2,
   "id": "5acba464",
   "metadata": {},
   "outputs": [],
   "source": [
    "#to resize to zoom or to create different images we use imageDatagenerator"
   ]
  },
  {
   "cell_type": "code",
   "execution_count": 3,
   "id": "a35bb706",
   "metadata": {},
   "outputs": [
    {
     "data": {
      "text/plain": [
       "'2.11.0'"
      ]
     },
     "execution_count": 3,
     "metadata": {},
     "output_type": "execute_result"
    }
   ],
   "source": [
    "tf.__version__"
   ]
  },
  {
   "cell_type": "markdown",
   "id": "0c92bb15",
   "metadata": {},
   "source": [
    "## Data Preprocessing"
   ]
  },
  {
   "cell_type": "markdown",
   "id": "c3f9e338",
   "metadata": {},
   "source": [
    "### Preprocessing the trainingSet"
   ]
  },
  {
   "cell_type": "markdown",
   "id": "b9c37e21",
   "metadata": {},
   "source": [
    "train_gen_data=ImageDataGenerator(rescale=1./255,shear_range=0.2,zoom_range=0.2,horizontal_flip=True)\n",
    "training_set=train_gen_data.flow_from_directory('Datasets/cats&dogs/training_set',target_size=(64,64),batch_size=32,class_mode='binary')"
   ]
  },
  {
   "cell_type": "code",
   "execution_count": 14,
   "id": "2b1ebe85",
   "metadata": {
    "scrolled": true
   },
   "outputs": [
    {
     "name": "stdout",
     "output_type": "stream",
     "text": [
      "Found 2023 images belonging to 2 classes.\n"
     ]
    }
   ],
   "source": [
    "test_gen_data=ImageDataGenerator(rescale=1./255)\n",
    "test_set=train_gen_data.flow_from_directory('Datasets/cats&dogs/test_set',target_size=(64,64),batch_size=32,class_mode='binary')"
   ]
  },
  {
   "cell_type": "markdown",
   "id": "ef5afcf7",
   "metadata": {},
   "source": [
    "## part-2 building CNN"
   ]
  },
  {
   "cell_type": "markdown",
   "id": "49feecf2",
   "metadata": {},
   "source": [
    "### Initialising the CNN"
   ]
  },
  {
   "cell_type": "code",
   "execution_count": 16,
   "id": "c5496e97",
   "metadata": {},
   "outputs": [],
   "source": [
    "cnn=tf.keras.models.Sequential()"
   ]
  },
  {
   "cell_type": "markdown",
   "id": "12163143",
   "metadata": {},
   "source": [
    "### step1: Concvolution"
   ]
  },
  {
   "cell_type": "code",
   "execution_count": 19,
   "id": "4489027e",
   "metadata": {},
   "outputs": [],
   "source": [
    "cnn.add(tf.keras.layers.Conv2D(filters=32,kernel_size=3,activation='relu',input_shape=[64,64,3]))"
   ]
  },
  {
   "cell_type": "markdown",
   "id": "649453f1",
   "metadata": {},
   "source": [
    "### Step 2-Pooling"
   ]
  },
  {
   "cell_type": "code",
   "execution_count": 20,
   "id": "20adffb7",
   "metadata": {},
   "outputs": [],
   "source": [
    "cnn.add(tf.keras.layers.MaxPool2D(pool_size=2,strides=3))"
   ]
  },
  {
   "cell_type": "markdown",
   "id": "e41dc757",
   "metadata": {},
   "source": [
    "### Adding a second convolutional layer"
   ]
  },
  {
   "cell_type": "code",
   "execution_count": 21,
   "id": "65806184",
   "metadata": {},
   "outputs": [],
   "source": [
    "cnn.add(tf.keras.layers.Conv2D(filters=32,kernel_size=3,activation='relu'))\n",
    "cnn.add(tf.keras.layers.MaxPool2D(pool_size=2,strides=3))"
   ]
  },
  {
   "cell_type": "markdown",
   "id": "247b5d09",
   "metadata": {},
   "source": [
    "### step3 Flattening"
   ]
  },
  {
   "cell_type": "code",
   "execution_count": 23,
   "id": "65fcf50e",
   "metadata": {},
   "outputs": [],
   "source": [
    "cnn.add(tf.keras.layers.Flatten())"
   ]
  },
  {
   "cell_type": "markdown",
   "id": "d6e50c12",
   "metadata": {},
   "source": [
    "### Step4-Full Connection"
   ]
  },
  {
   "cell_type": "code",
   "execution_count": 24,
   "id": "834f99ec",
   "metadata": {},
   "outputs": [],
   "source": [
    "cnn.add(tf.keras.layers.Dense(units=128,activation='relu'))"
   ]
  },
  {
   "cell_type": "code",
   "execution_count": 25,
   "id": "014dca08",
   "metadata": {},
   "outputs": [],
   "source": [
    "### Step5-Output layer"
   ]
  },
  {
   "cell_type": "code",
   "execution_count": 26,
   "id": "04f032a8",
   "metadata": {},
   "outputs": [],
   "source": [
    "cnn.add(tf.keras.layers.Dense(units=1,activation='sigmoid'))"
   ]
  },
  {
   "cell_type": "markdown",
   "id": "20adddf6",
   "metadata": {},
   "source": [
    "## Part 3-Training the CNN"
   ]
  },
  {
   "cell_type": "markdown",
   "id": "da9a833c",
   "metadata": {},
   "source": [
    "### compiling the CNN"
   ]
  },
  {
   "cell_type": "code",
   "execution_count": 28,
   "id": "36972ba2",
   "metadata": {},
   "outputs": [],
   "source": [
    "cnn.compile(optimizer='adam',loss='binary_crossentropy',metrics=['accuracy'])"
   ]
  },
  {
   "cell_type": "markdown",
   "id": "7592c2e2",
   "metadata": {},
   "source": [
    "### Trainging the CNN on the training set and evaluating it on the Test Set"
   ]
  },
  {
   "cell_type": "code",
   "execution_count": 30,
   "id": "f7d1eb22",
   "metadata": {},
   "outputs": [
    {
     "name": "stdout",
     "output_type": "stream",
     "text": [
      "Epoch 1/25\n",
      "251/251 [==============================] - 71s 276ms/step - loss: 0.6647 - accuracy: 0.5855 - val_loss: 0.6122 - val_accuracy: 0.6752\n",
      "Epoch 2/25\n",
      "251/251 [==============================] - 65s 259ms/step - loss: 0.5981 - accuracy: 0.6793 - val_loss: 0.5777 - val_accuracy: 0.7079\n",
      "Epoch 3/25\n",
      "251/251 [==============================] - 67s 268ms/step - loss: 0.5666 - accuracy: 0.7006 - val_loss: 0.5560 - val_accuracy: 0.7173\n",
      "Epoch 4/25\n",
      "251/251 [==============================] - 68s 270ms/step - loss: 0.5422 - accuracy: 0.7232 - val_loss: 0.5432 - val_accuracy: 0.7405\n",
      "Epoch 5/25\n",
      "251/251 [==============================] - 66s 264ms/step - loss: 0.5185 - accuracy: 0.7477 - val_loss: 0.5432 - val_accuracy: 0.7306\n",
      "Epoch 6/25\n",
      "251/251 [==============================] - 67s 267ms/step - loss: 0.5090 - accuracy: 0.7462 - val_loss: 0.5104 - val_accuracy: 0.7578\n",
      "Epoch 7/25\n",
      "251/251 [==============================] - 64s 257ms/step - loss: 0.4928 - accuracy: 0.7598 - val_loss: 0.5143 - val_accuracy: 0.7519\n",
      "Epoch 8/25\n",
      "251/251 [==============================] - 67s 267ms/step - loss: 0.4775 - accuracy: 0.7728 - val_loss: 0.4922 - val_accuracy: 0.7617\n",
      "Epoch 9/25\n",
      "251/251 [==============================] - 67s 268ms/step - loss: 0.4737 - accuracy: 0.7701 - val_loss: 0.4799 - val_accuracy: 0.7751\n",
      "Epoch 10/25\n",
      "251/251 [==============================] - 70s 279ms/step - loss: 0.4581 - accuracy: 0.7778 - val_loss: 0.4787 - val_accuracy: 0.7766\n",
      "Epoch 11/25\n",
      "251/251 [==============================] - 68s 272ms/step - loss: 0.4514 - accuracy: 0.7839 - val_loss: 0.5171 - val_accuracy: 0.7410\n",
      "Epoch 12/25\n",
      "251/251 [==============================] - 69s 274ms/step - loss: 0.4450 - accuracy: 0.7900 - val_loss: 0.4909 - val_accuracy: 0.7593\n",
      "Epoch 13/25\n",
      "251/251 [==============================] - 70s 278ms/step - loss: 0.4347 - accuracy: 0.7985 - val_loss: 0.4781 - val_accuracy: 0.7746\n",
      "Epoch 14/25\n",
      "251/251 [==============================] - 71s 281ms/step - loss: 0.4244 - accuracy: 0.8004 - val_loss: 0.4920 - val_accuracy: 0.7810\n",
      "Epoch 15/25\n",
      "251/251 [==============================] - 68s 271ms/step - loss: 0.4176 - accuracy: 0.8032 - val_loss: 0.4715 - val_accuracy: 0.7761\n",
      "Epoch 16/25\n",
      "251/251 [==============================] - 70s 280ms/step - loss: 0.4120 - accuracy: 0.8097 - val_loss: 0.4905 - val_accuracy: 0.7687\n",
      "Epoch 17/25\n",
      "251/251 [==============================] - 70s 281ms/step - loss: 0.4080 - accuracy: 0.8126 - val_loss: 0.4847 - val_accuracy: 0.7850\n",
      "Epoch 18/25\n",
      "251/251 [==============================] - 71s 281ms/step - loss: 0.3951 - accuracy: 0.8167 - val_loss: 0.4584 - val_accuracy: 0.8013\n",
      "Epoch 19/25\n",
      "251/251 [==============================] - 68s 271ms/step - loss: 0.3853 - accuracy: 0.8222 - val_loss: 0.5187 - val_accuracy: 0.7583\n",
      "Epoch 20/25\n",
      "251/251 [==============================] - 72s 288ms/step - loss: 0.3842 - accuracy: 0.8217 - val_loss: 0.4790 - val_accuracy: 0.7909\n",
      "Epoch 21/25\n",
      "251/251 [==============================] - 73s 289ms/step - loss: 0.3727 - accuracy: 0.8324 - val_loss: 0.4972 - val_accuracy: 0.7785\n",
      "Epoch 22/25\n",
      "251/251 [==============================] - 76s 302ms/step - loss: 0.3625 - accuracy: 0.8356 - val_loss: 0.4977 - val_accuracy: 0.7840\n",
      "Epoch 23/25\n",
      "251/251 [==============================] - 70s 278ms/step - loss: 0.3587 - accuracy: 0.8360 - val_loss: 0.4755 - val_accuracy: 0.7894\n",
      "Epoch 24/25\n",
      "251/251 [==============================] - 65s 259ms/step - loss: 0.3460 - accuracy: 0.8433 - val_loss: 0.4928 - val_accuracy: 0.7820\n",
      "Epoch 25/25\n",
      "251/251 [==============================] - 66s 263ms/step - loss: 0.3448 - accuracy: 0.8510 - val_loss: 0.4778 - val_accuracy: 0.7884\n"
     ]
    },
    {
     "data": {
      "text/plain": [
       "<keras.callbacks.History at 0x2991fb890d0>"
      ]
     },
     "execution_count": 30,
     "metadata": {},
     "output_type": "execute_result"
    }
   ],
   "source": [
    "cnn.fit(x=training_set,validation_data=test_set,epochs=25)"
   ]
  },
  {
   "cell_type": "markdown",
   "id": "bf601096",
   "metadata": {},
   "source": [
    "## Part-4 Making a single Prediction"
   ]
  },
  {
   "cell_type": "code",
   "execution_count": 50,
   "id": "3bfe4dc3",
   "metadata": {},
   "outputs": [
    {
     "name": "stdout",
     "output_type": "stream",
     "text": [
      "1/1 [==============================] - 0s 42ms/step\n"
     ]
    }
   ],
   "source": [
    "import numpy as np\n",
    "# from keras.preprocessing import image\n",
    "import keras.utils as image\n",
    "test_image=image.load_img('datasets/cats&dogs/test_set/cats/cat.4019.jpg',target_size=(64,64))\n",
    "test_image=image.img_to_array(test_image)\n",
    "test_image=np.expand_dims(test_image,axis=0)\n",
    "result=cnn.predict(test_image)##stored in 2d array\n",
    "training_set.class_indices\n",
    "if result[0][0] == 1:\n",
    "    prediction=\"dog\"\n",
    "else:\n",
    "    prediction=\"cat\""
   ]
  },
  {
   "cell_type": "code",
   "execution_count": 51,
   "id": "1619e031",
   "metadata": {},
   "outputs": [
    {
     "name": "stdout",
     "output_type": "stream",
     "text": [
      "cat\n"
     ]
    }
   ],
   "source": [
    "print(prediction)"
   ]
  }
 ],
 "metadata": {
  "kernelspec": {
   "display_name": "Python 3 (ipykernel)",
   "language": "python",
   "name": "python3"
  },
  "language_info": {
   "codemirror_mode": {
    "name": "ipython",
    "version": 3
   },
   "file_extension": ".py",
   "mimetype": "text/x-python",
   "name": "python",
   "nbconvert_exporter": "python",
   "pygments_lexer": "ipython3",
   "version": "3.9.13"
  }
 },
 "nbformat": 4,
 "nbformat_minor": 5
}
