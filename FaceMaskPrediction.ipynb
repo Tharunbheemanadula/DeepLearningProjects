{
 "cells": [
  {
   "cell_type": "markdown",
   "id": "07d42367",
   "metadata": {},
   "source": [
    "datset:https://www.kaggle.com/datasets/aneerbanchakraborty/face-mask-detection-data"
   ]
  },
  {
   "cell_type": "code",
   "execution_count": 1,
   "id": "47c9abd8",
   "metadata": {},
   "outputs": [],
   "source": [
    "import tensorflow as tf\n",
    "from keras.preprocessing.image import ImageDataGenerator"
   ]
  },
  {
   "cell_type": "code",
   "execution_count": 2,
   "id": "fcd331e7",
   "metadata": {},
   "outputs": [
    {
     "name": "stdout",
     "output_type": "stream",
     "text": [
      "Found 3833 images belonging to 2 classes.\n"
     ]
    }
   ],
   "source": [
    "train_gen_data=ImageDataGenerator(rescale=1./255,shear_range=0.2,zoom_range=0.2,horizontal_flip=True)\n",
    "training_set=train_gen_data.flow_from_directory('Datasets/FaceMask/training_set',target_size=(64,64),batch_size=32,class_mode='binary')"
   ]
  },
  {
   "cell_type": "code",
   "execution_count": 4,
   "id": "55fea621",
   "metadata": {},
   "outputs": [
    {
     "name": "stdout",
     "output_type": "stream",
     "text": [
      "Found 818 images belonging to 2 classes.\n"
     ]
    }
   ],
   "source": [
    "test_gen_data=ImageDataGenerator(rescale=1./255)\n",
    "test_set=train_gen_data.flow_from_directory('Datasets/FaceMask/test_set',target_size=(64,64),batch_size=32,class_mode='binary')"
   ]
  },
  {
   "cell_type": "code",
   "execution_count": 5,
   "id": "d56d60ab",
   "metadata": {},
   "outputs": [],
   "source": [
    "cnn=tf.keras.models.Sequential()"
   ]
  },
  {
   "cell_type": "code",
   "execution_count": 6,
   "id": "133084cb",
   "metadata": {},
   "outputs": [],
   "source": [
    "cnn.add(tf.keras.layers.Conv2D(filters=32,kernel_size=3,activation='relu',input_shape=[64,64,3]))"
   ]
  },
  {
   "cell_type": "code",
   "execution_count": 7,
   "id": "474fd0f7",
   "metadata": {},
   "outputs": [],
   "source": [
    "cnn.add(tf.keras.layers.MaxPool2D(pool_size=2,strides=3))"
   ]
  },
  {
   "cell_type": "code",
   "execution_count": 8,
   "id": "80b0cb22",
   "metadata": {},
   "outputs": [],
   "source": [
    "cnn.add(tf.keras.layers.Conv2D(filters=32,kernel_size=3,activation='relu'))\n",
    "cnn.add(tf.keras.layers.MaxPool2D(pool_size=2,strides=3))"
   ]
  },
  {
   "cell_type": "code",
   "execution_count": 9,
   "id": "8f347d02",
   "metadata": {},
   "outputs": [],
   "source": [
    "cnn.add(tf.keras.layers.Flatten())\n"
   ]
  },
  {
   "cell_type": "code",
   "execution_count": 10,
   "id": "2c654d0b",
   "metadata": {},
   "outputs": [],
   "source": [
    "cnn.add(tf.keras.layers.Dense(units=128,activation='relu'))"
   ]
  },
  {
   "cell_type": "code",
   "execution_count": 11,
   "id": "086ec09c",
   "metadata": {},
   "outputs": [],
   "source": [
    "cnn.add(tf.keras.layers.Dense(units=1,activation='sigmoid'))"
   ]
  },
  {
   "cell_type": "code",
   "execution_count": 12,
   "id": "bb3e5df9",
   "metadata": {},
   "outputs": [],
   "source": [
    "cnn.compile(optimizer='adam',loss='binary_crossentropy',metrics=['accuracy'])"
   ]
  },
  {
   "cell_type": "code",
   "execution_count": 13,
   "id": "4f3942ed",
   "metadata": {},
   "outputs": [
    {
     "name": "stdout",
     "output_type": "stream",
     "text": [
      "Epoch 1/7\n",
      " 34/120 [=======>......................] - ETA: 27s - loss: 0.5515 - accuracy: 0.7454"
     ]
    },
    {
     "name": "stderr",
     "output_type": "stream",
     "text": [
      "C:\\ProgramData\\Anaconda3\\lib\\site-packages\\PIL\\Image.py:959: UserWarning: Palette images with Transparency expressed in bytes should be converted to RGBA images\n",
      "  warnings.warn(\n"
     ]
    },
    {
     "name": "stdout",
     "output_type": "stream",
     "text": [
      "120/120 [==============================] - 45s 363ms/step - loss: 0.3440 - accuracy: 0.8604 - val_loss: 0.2080 - val_accuracy: 0.9303\n",
      "Epoch 2/7\n",
      "120/120 [==============================] - 41s 341ms/step - loss: 0.2196 - accuracy: 0.9147 - val_loss: 0.1648 - val_accuracy: 0.9401\n",
      "Epoch 3/7\n",
      "120/120 [==============================] - 42s 352ms/step - loss: 0.1824 - accuracy: 0.9322 - val_loss: 0.1553 - val_accuracy: 0.9438\n",
      "Epoch 4/7\n",
      "120/120 [==============================] - 40s 331ms/step - loss: 0.1573 - accuracy: 0.9465 - val_loss: 0.1361 - val_accuracy: 0.9487\n",
      "Epoch 5/7\n",
      "120/120 [==============================] - 39s 327ms/step - loss: 0.1441 - accuracy: 0.9504 - val_loss: 0.1627 - val_accuracy: 0.9352\n",
      "Epoch 6/7\n",
      "120/120 [==============================] - 41s 341ms/step - loss: 0.1295 - accuracy: 0.9541 - val_loss: 0.1180 - val_accuracy: 0.9511\n",
      "Epoch 7/7\n",
      "120/120 [==============================] - 39s 327ms/step - loss: 0.1175 - accuracy: 0.9543 - val_loss: 0.1054 - val_accuracy: 0.9584\n"
     ]
    },
    {
     "data": {
      "text/plain": [
       "<keras.callbacks.History at 0x1c68dbb4c70>"
      ]
     },
     "execution_count": 13,
     "metadata": {},
     "output_type": "execute_result"
    }
   ],
   "source": [
    "cnn.fit(x=training_set,validation_data=test_set,epochs=7)"
   ]
  },
  {
   "cell_type": "code",
   "execution_count": 17,
   "id": "580341bd",
   "metadata": {},
   "outputs": [
    {
     "name": "stdout",
     "output_type": "stream",
     "text": [
      "1/1 [==============================] - 0s 47ms/step\n"
     ]
    }
   ],
   "source": [
    "import numpy as np\n",
    "# from keras.preprocessing import image\n",
    "import keras.utils as image\n",
    "test_image=image.load_img('Datasets/FaceMask/test_set/with_mask/image1,071.jpg',target_size=(64,64))\n",
    "test_image=image.img_to_array(test_image)\n",
    "test_image=np.expand_dims(test_image,axis=0)\n",
    "result=cnn.predict(test_image)##stored in 2d array\n",
    "training_set.class_indices\n",
    "if result[0][0] == 1:\n",
    "    prediction=\"without_mask\"\n",
    "else:\n",
    "    prediction=\"with_mask\""
   ]
  },
  {
   "cell_type": "code",
   "execution_count": 18,
   "id": "dd224e58",
   "metadata": {},
   "outputs": [
    {
     "name": "stdout",
     "output_type": "stream",
     "text": [
      "with_mask\n"
     ]
    }
   ],
   "source": [
    "print(prediction)"
   ]
  },
  {
   "cell_type": "code",
   "execution_count": null,
   "id": "3bb39b19",
   "metadata": {},
   "outputs": [],
   "source": []
  }
 ],
 "metadata": {
  "kernelspec": {
   "display_name": "Python 3 (ipykernel)",
   "language": "python",
   "name": "python3"
  },
  "language_info": {
   "codemirror_mode": {
    "name": "ipython",
    "version": 3
   },
   "file_extension": ".py",
   "mimetype": "text/x-python",
   "name": "python",
   "nbconvert_exporter": "python",
   "pygments_lexer": "ipython3",
   "version": "3.9.13"
  }
 },
 "nbformat": 4,
 "nbformat_minor": 5
}
